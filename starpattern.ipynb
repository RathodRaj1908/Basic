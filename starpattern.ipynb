{
  "cells": [
    {
      "cell_type": "markdown",
      "metadata": {
        "id": "view-in-github",
        "colab_type": "text"
      },
      "source": [
        "<a href=\"https://colab.research.google.com/github/RathodRaj1908/Basic/blob/main/starpattern.ipynb\" target=\"_parent\"><img src=\"https://colab.research.google.com/assets/colab-badge.svg\" alt=\"Open In Colab\"/></a>"
      ]
    },
    {
      "cell_type": "code",
      "source": [
        "while True:\n",
        "  x=int(input(\"enter a number\"))\n",
        "  y=int(input(\"enter a number\"))\n",
        "  c=input(\"enter a option\")\n",
        "  if c=='+':\n",
        "    print(x+y)\n",
        "  elif c=='-':\n",
        "    print(x-y)\n",
        "  elif c=='*':\n",
        "    print(x*y)\n",
        "  elif c=='/':\n",
        "    print(x/y)\n",
        "  else :\n",
        "    print(\"give vaild opration\")"
      ],
      "metadata": {
        "id": "7Sybqp-JRCif"
      },
      "execution_count": null,
      "outputs": []
    },
    {
      "cell_type": "markdown",
      "source": [
        "# New Section"
      ],
      "metadata": {
        "id": "JZEhLPfsR0pO"
      }
    },
    {
      "cell_type": "code",
      "source": [
        "rows = int(input(\"Enter the row size for the pattern: \"))\n",
        "for i in range(1, rows + 1):\n",
        "    for j in range(1, i + 1):\n",
        "        print(\"*\", end=\" \")\n",
        "    print()"
      ],
      "metadata": {
        "id": "ZfcsqytCR16m"
      },
      "execution_count": null,
      "outputs": []
    }
  ],
  "metadata": {
    "colab": {
      "name": "Welcome To Colab",
      "toc_visible": true,
      "provenance": [],
      "include_colab_link": true
    },
    "kernelspec": {
      "display_name": "Python 3",
      "name": "python3"
    }
  },
  "nbformat": 4,
  "nbformat_minor": 0
}